{
 "cells": [
  {
   "cell_type": "code",
   "execution_count": 66,
   "metadata": {
    "id": "3GZo_mBbDHGv"
   },
   "outputs": [],
   "source": [
    "import pandas as pd\n",
    "import matplotlib.pyplot as plt"
   ]
  },
  {
   "cell_type": "markdown",
   "metadata": {
    "id": "r526UDr1DAtn"
   },
   "source": [
    "## Exercici 1"
   ]
  },
  {
   "cell_type": "markdown",
   "metadata": {
    "id": "_WS4UNKxDEtn"
   },
   "source": [
    "Carrega el subconjunt de dades Locals cadastral segons ús adjunt en un pandas dataframe i observa que només hi ha un sol valor a la variable 'Concepte'."
   ]
  },
  {
   "cell_type": "code",
   "execution_count": 67,
   "metadata": {
    "colab": {
     "base_uri": "https://localhost:8080/"
    },
    "id": "eBwVO7z54EwY",
    "outputId": "5c7fb779-9fed-4012-81ee-e9cc0029ff64"
   },
   "outputs": [
    {
     "name": "stdout",
     "output_type": "stream",
     "text": [
      "        Any  Codi_districte Nom_districte  Codi_barri            Nom_barri  \\\n",
      "0      2022             1.0  Ciutat Vella         1.0             el Raval   \n",
      "1      2022             1.0  Ciutat Vella         1.0             el Raval   \n",
      "2      2022             1.0  Ciutat Vella         1.0             el Raval   \n",
      "3      2022             1.0  Ciutat Vella         1.0             el Raval   \n",
      "4      2022             1.0  Ciutat Vella         1.0             el Raval   \n",
      "...     ...             ...           ...         ...                  ...   \n",
      "25868  2022            10.0    Sant Martí        73.0  la Verneda i la Pau   \n",
      "25869  2022            10.0    Sant Martí        73.0  la Verneda i la Pau   \n",
      "25870  2022            10.0    Sant Martí        73.0  la Verneda i la Pau   \n",
      "25871  2022            10.0    Sant Martí        73.0  la Verneda i la Pau   \n",
      "25872  2022            10.0    Sant Martí        73.0  la Verneda i la Pau   \n",
      "\n",
      "       Seccio_censal Desc_us_desti_principal       Concepte       Nombre  \n",
      "0                1.0               Habitatge        Valor_€  66331900.15  \n",
      "1                1.0             Aparcaments        Valor_€   2085314.09  \n",
      "2                1.0                  Comerç        Valor_€  11754825.21  \n",
      "3                1.0                Magatzem        Valor_€   8153377.19  \n",
      "4                1.0                 Oficina        Valor_€  18875939.45  \n",
      "...              ...                     ...            ...          ...  \n",
      "25868          142.0                 Sanitat  Superfície_m2      1501.00  \n",
      "25869          142.0                Religiós  Superfície_m2      1341.00  \n",
      "25870          143.0               Habitatge  Superfície_m2     69340.00  \n",
      "25871          143.0                  Comerç  Superfície_m2      1269.00  \n",
      "25872          143.0   Ensenyament i cultura  Superfície_m2      4516.00  \n",
      "\n",
      "[25873 rows x 9 columns]\n"
     ]
    }
   ],
   "source": [
    "locals_cadastral = pd.read_csv(\"/content/drive/MyDrive/Colab Notebooks/dataset Locals OpenDataBCN.csv\")\n",
    "\n",
    "print(locals_cadastral)\n"
   ]
  },
  {
   "cell_type": "code",
   "execution_count": 68,
   "metadata": {
    "colab": {
     "base_uri": "https://localhost:8080/"
    },
    "id": "P91vQIfo-BWh",
    "outputId": "1cf1eb8d-72ab-4289-9b81-ca742fad5d96"
   },
   "outputs": [
    {
     "name": "stdout",
     "output_type": "stream",
     "text": [
      "Els valors de la columna 'Concepte' són:\n",
      "Valor_€\n",
      "nan\n",
      "Nombre\n",
      "Superfície_m2\n"
     ]
    }
   ],
   "source": [
    "\n",
    "# Primer vull localitzar la columna 'Concepte' i el que faig es crear la següent variable\n",
    "concepte_column = locals_cadastral['Concepte']\n",
    "\n",
    "# creem aquesta variable perque no ens surti el llistat infinit de valoras de la columna\n",
    "valors_unics = concepte_column.unique()\n",
    "\n",
    "# Imprime los valores de la columna 'Concepto'\n",
    "print(\"Els valors de la columna 'Concepte' són:\")\n",
    "\n",
    "#aquí li estic donant l'ordre posant-lo sota el print, perque em digui quins son els valors.\n",
    "for valor in valors_unics:\n",
    "    print(valor)\n"
   ]
  },
  {
   "cell_type": "markdown",
   "metadata": {
    "id": "y07fnxlj-3j4"
   },
   "source": [
    "### Podem observar que n'hi ha un valor 'NaN' és a dir, que la cel·la, està en blanc, **buida**."
   ]
  },
  {
   "cell_type": "markdown",
   "metadata": {
    "id": "nXR3AcYbQ4O5"
   },
   "source": [
    "## Exercici 2"
   ]
  },
  {
   "cell_type": "markdown",
   "metadata": {
    "id": "CKxpwIUNGdV6"
   },
   "source": []
  },
  {
   "cell_type": "markdown",
   "metadata": {
    "id": "C5xa5eqYQ7QR"
   },
   "source": [
    "Per a la variable 'Nombre' que conté el valor dels locals cadastrals, obté la següent informació:\n",
    "\n",
    "* Quina és la suma de tots els valors?\n",
    "* Quin és el valor més alt? I el més baix?\n",
    "* Quin és el valor mitjà dels locals?"
   ]
  },
  {
   "cell_type": "code",
   "execution_count": 69,
   "metadata": {
    "colab": {
     "base_uri": "https://localhost:8080/"
    },
    "id": "1kT447NzRB1h",
    "outputId": "e2280bc0-8e81-474d-957a-0baa2338638d"
   },
   "outputs": [
    {
     "name": "stdout",
     "output_type": "stream",
     "text": [
      "La suma de tots els valors de la columna 'Nombre' és 116736498546.04\n",
      "El valor més alt de la columna 'Nombre' és 706237909.61 i el valor més baix es 0.0\n",
      "El valor mitjà de la columna 'Nombre' és 4595020.607992128\n"
     ]
    }
   ],
   "source": [
    "# Primer vull localitzar la columna 'Nombre' i el que faig es crear la següent variable\n",
    "Nombre_column = locals_cadastral['Nombre']\n",
    "\n",
    "# Suma de tots els valors\n",
    "suma_valors = Nombre_column.sum()\n",
    "\n",
    "# Valor més alt i el mes baix\n",
    "Max_valor = Nombre_column.max()\n",
    "Min_valor = Nombre_column.min()\n",
    "\n",
    "# Valor Mitjà\n",
    "mitja_valors = Nombre_column.mean()\n",
    "\n",
    "print(\"La suma de tots els valors de la columna 'Nombre' és\", suma_valors)\n",
    "print(\"El valor més alt de la columna 'Nombre' és\", Max_valor,\"i el valor més baix es\", Min_valor)\n",
    "print(\"El valor mitjà de la columna 'Nombre' és\", mitja_valors)"
   ]
  },
  {
   "cell_type": "markdown",
   "metadata": {
    "id": "Eb1YZQxqCg6K"
   },
   "source": [
    "## Exercici 3"
   ]
  },
  {
   "cell_type": "markdown",
   "metadata": {
    "id": "dfIXUXl6Cn5h"
   },
   "source": [
    "Amb la funció GroupBy, agrupa el dataset per la variable 'Nom_districte' i realitza un recompte (count)."
   ]
  },
  {
   "cell_type": "code",
   "execution_count": 80,
   "metadata": {
    "colab": {
     "base_uri": "https://localhost:8080/"
    },
    "id": "vchpBA3CHk9t",
    "outputId": "ae9f8b5c-640f-4214-e276-b792ac18a11f"
   },
   "outputs": [
    {
     "name": "stdout",
     "output_type": "stream",
     "text": [
      "                      Any  Codi_districte  Codi_barri  Nom_barri  \\\n",
      "Nom_districte                                                      \n",
      "Ciutat Vella         1069            1069        1069       1069   \n",
      "Eixample             4353            4353        4353       4353   \n",
      "Gràcia               2175            2175        2175       2175   \n",
      "Horta-Guinardó       2913            2913        2913       2913   \n",
      "Les Corts            1458            1458        1458       1458   \n",
      "Nou Barris           2400            2400        2400       2400   \n",
      "Sant Andreu          2256            2256        2256       2256   \n",
      "Sant Martí           3216            3216        3216       3216   \n",
      "Sants-Montjuïc       2865            2865        2865       2865   \n",
      "Sarrià-Sant Gervasi  2700            2700        2700       2700   \n",
      "\n",
      "                     Seccio_censal  Desc_us_desti_principal  Concepte  Nombre  \n",
      "Nom_districte                                                                  \n",
      "Ciutat Vella                  1069                     1069      1069    1069  \n",
      "Eixample                      4353                     4353      4353    4353  \n",
      "Gràcia                        2175                     2175      2175    2175  \n",
      "Horta-Guinardó                2913                     2913      2913    2913  \n",
      "Les Corts                     1458                     1458      1458    1458  \n",
      "Nou Barris                    2400                     2400      2400    2400  \n",
      "Sant Andreu                   2256                     2256      2256    2256  \n",
      "Sant Martí                    3216                     3216      3216    3216  \n",
      "Sants-Montjuïc                2865                     2865      2865    2865  \n",
      "Sarrià-Sant Gervasi           2700                     2700      2700    2700  \n"
     ]
    }
   ],
   "source": [
    "Nom_districte_column = locals_cadastral ['Nom_districte']\n",
    "\n",
    "agrupacio = locals_cadastral.groupby('Nom_districte').count() #la funcio count em treu els valors NaN i em fa el recompte\n",
    "\n",
    "print(agrupacio)\n"
   ]
  },
  {
   "cell_type": "markdown",
   "metadata": {
    "id": "IUztEAPkLFUj"
   },
   "source": [
    "## Exercici 4"
   ]
  },
  {
   "cell_type": "markdown",
   "metadata": {
    "id": "m8-3Dz7YLJCL"
   },
   "source": [
    "Amb l'agrupació anterior, fes un gràfic senzill de barres (kind = 'bar') usant la funció .plot per mostrar gràficament els registres per a cada districte. És possible que necessitis carregar la llibreria matplotlib."
   ]
  },
  {
   "cell_type": "code",
   "execution_count": 83,
   "metadata": {
    "colab": {
     "base_uri": "https://localhost:8080/"
    },
    "id": "WOzm5OiuXfKW",
    "outputId": "fd7010a4-ed5d-45d8-a279-cb79206c8c7e"
   },
   "outputs": [
    {
     "name": "stdout",
     "output_type": "stream",
     "text": [
      "                      Any  Codi_districte  Codi_barri  Nom_barri  \\\n",
      "Nom_districte                                                      \n",
      "Ciutat Vella         1069            1069        1069       1069   \n",
      "Eixample             4353            4353        4353       4353   \n",
      "Gràcia               2175            2175        2175       2175   \n",
      "Horta-Guinardó       2913            2913        2913       2913   \n",
      "Les Corts            1458            1458        1458       1458   \n",
      "Nou Barris           2400            2400        2400       2400   \n",
      "Sant Andreu          2256            2256        2256       2256   \n",
      "Sant Martí           3216            3216        3216       3216   \n",
      "Sants-Montjuïc       2865            2865        2865       2865   \n",
      "Sarrià-Sant Gervasi  2700            2700        2700       2700   \n",
      "\n",
      "                     Seccio_censal  Desc_us_desti_principal  Concepte  Nombre  \n",
      "Nom_districte                                                                  \n",
      "Ciutat Vella                  1069                     1069      1069    1069  \n",
      "Eixample                      4353                     4353      4353    4353  \n",
      "Gràcia                        2175                     2175      2175    2175  \n",
      "Horta-Guinardó                2913                     2913      2913    2913  \n",
      "Les Corts                     1458                     1458      1458    1458  \n",
      "Nou Barris                    2400                     2400      2400    2400  \n",
      "Sant Andreu                   2256                     2256      2256    2256  \n",
      "Sant Martí                    3216                     3216      3216    3216  \n",
      "Sants-Montjuïc                2865                     2865      2865    2865  \n",
      "Sarrià-Sant Gervasi           2700                     2700      2700    2700  \n"
     ]
    }
   ],
   "source": [
    "print(agrupacio)"
   ]
  },
  {
   "cell_type": "code",
   "execution_count": 87,
   "metadata": {
    "colab": {
     "base_uri": "https://localhost:8080/",
     "height": 607
    },
    "id": "kagtcE7zW11G",
    "outputId": "6388ad05-98ea-4353-c949-3934cf6b5c3d"
   },
   "outputs": [
    {
     "data": {
      "image/png": "[encoded data removed]",
      "text/plain": [
       "<Figure size 1000x600 with 1 Axes>"
      ]
     },
     "metadata": {},
     "output_type": "display_data"
    }
   ],
   "source": [
    "#Indiquem de quin tamany volem el gráfic\n",
    "plt.figure(figsize=(10, 6))\n",
    "\n",
    "#Indiquem les dades de cada eix, com anteriorment a l'hora de agrupar, he convertit la columna 'Nom_districte' en el index, la funció per cridar les dades del eix x utilitzo .index\n",
    "x = agrupacio.index\n",
    "y = agrupacio['Nombre']\n",
    "\n",
    "#Aqui li estic dient, que em crei un grafic de barres amb dos eixos\n",
    "plt.bar(x, y)\n",
    "\n",
    "# Aqui personalitzo les etiquetes i titol, per entendre millor el gráfic\n",
    "plt.xlabel('Districte')  # Etiqueta del eje x\n",
    "plt.ylabel('Nombre')    # Etiqueta del eje y\n",
    "plt.title('Gráfic de Barres')  # Título del gráfico\n",
    "plt.xticks(rotation=45)  # Rotació de etiquetes del eix X per poder llegir-ho millor.\n",
    "\n",
    "\n",
    "plt.tight_layout()  #funció que es la plt.tight_layout() que s'ajusta la dispocició dels elements.\n",
    "plt.show() # El plt.show() vol dir que fagi un print del grafic\n"
   ]
  },
  {
   "cell_type": "code",
   "execution_count": null,
   "metadata": {
    "id": "r9TvBmSMXMqW"
   },
   "outputs": [],
   "source": []
  }
 ],
 "metadata": {
  "colab": {
   "provenance": []
  },
  "kernelspec": {
   "display_name": "Python 3 (ipykernel)",
   "language": "python",
   "name": "python3"
  },
  "language_info": {
   "codemirror_mode": {
    "name": "ipython",
    "version": 3
   },
   "file_extension": ".py",
   "mimetype": "text/x-python",
   "name": "python",
   "nbconvert_exporter": "python",
   "pygments_lexer": "ipython3",
   "version": "3.11.5"
  }
 },
 "nbformat": 4,
 "nbformat_minor": 1
}
